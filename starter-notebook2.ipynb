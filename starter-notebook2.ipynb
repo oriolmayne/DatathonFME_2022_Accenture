{
 "cells": [
  {
   "cell_type": "markdown",
   "metadata": {
    "papermill": {
     "duration": 0.004443,
     "end_time": "2022-11-11T08:46:48.019499",
     "exception": false,
     "start_time": "2022-11-11T08:46:48.015056",
     "status": "completed"
    },
    "tags": []
   },
   "source": [
    "# Sarter Notebook"
   ]
  },
  {
   "cell_type": "code",
   "execution_count": 1,
   "metadata": {
    "execution": {
     "iopub.execute_input": "2022-11-11T12:18:57.654968Z",
     "iopub.status.busy": "2022-11-11T12:18:57.653997Z",
     "iopub.status.idle": "2022-11-11T12:18:57.688915Z",
     "shell.execute_reply": "2022-11-11T12:18:57.687095Z",
     "shell.execute_reply.started": "2022-11-11T12:18:57.654825Z"
    },
    "papermill": {
     "duration": 1.688634,
     "end_time": "2022-11-11T08:46:49.712044",
     "exception": false,
     "start_time": "2022-11-11T08:46:48.02341",
     "status": "completed"
    },
    "tags": []
   },
   "outputs": [],
   "source": [
    "import pandas as pd\n",
    "import numpy as np"
   ]
  },
  {
   "cell_type": "markdown",
   "metadata": {
    "papermill": {
     "duration": 0.003519,
     "end_time": "2022-11-11T08:46:49.719635",
     "exception": false,
     "start_time": "2022-11-11T08:46:49.716116",
     "status": "completed"
    },
    "tags": []
   },
   "source": [
    "## Reading Data"
   ]
  },
  {
   "cell_type": "code",
   "execution_count": 9,
   "metadata": {
    "execution": {
     "iopub.execute_input": "2022-11-11T12:20:21.571998Z",
     "iopub.status.busy": "2022-11-11T12:20:21.570436Z",
     "iopub.status.idle": "2022-11-11T12:20:22.201905Z",
     "shell.execute_reply": "2022-11-11T12:20:22.200276Z",
     "shell.execute_reply.started": "2022-11-11T12:20:21.571943Z"
    },
    "papermill": {
     "duration": 0.383908,
     "end_time": "2022-11-11T08:46:50.10727",
     "exception": false,
     "start_time": "2022-11-11T08:46:49.723362",
     "status": "completed"
    },
    "tags": []
   },
   "outputs": [
    {
     "data": {
      "text/html": [
       "<div>\n",
       "<style scoped>\n",
       "    .dataframe tbody tr th:only-of-type {\n",
       "        vertical-align: middle;\n",
       "    }\n",
       "\n",
       "    .dataframe tbody tr th {\n",
       "        vertical-align: top;\n",
       "    }\n",
       "\n",
       "    .dataframe thead th {\n",
       "        text-align: right;\n",
       "    }\n",
       "</style>\n",
       "<table border=\"1\" class=\"dataframe\">\n",
       "  <thead>\n",
       "    <tr style=\"text-align: right;\">\n",
       "      <th></th>\n",
       "      <th>Unnamed: 0</th>\n",
       "      <th>order_id</th>\n",
       "      <th>origin_port</th>\n",
       "      <th>3pl</th>\n",
       "      <th>customs_procedures</th>\n",
       "      <th>logistic_hub</th>\n",
       "      <th>customer</th>\n",
       "      <th>product_id</th>\n",
       "      <th>units</th>\n",
       "      <th>late_order</th>\n",
       "    </tr>\n",
       "  </thead>\n",
       "  <tbody>\n",
       "    <tr>\n",
       "      <th>0</th>\n",
       "      <td>0</td>\n",
       "      <td>366c7a3d298f</td>\n",
       "      <td>Rotterdam</td>\n",
       "      <td>v_002</td>\n",
       "      <td>DTP</td>\n",
       "      <td>Venlo</td>\n",
       "      <td>Marseille</td>\n",
       "      <td>1692723</td>\n",
       "      <td>583</td>\n",
       "      <td>1</td>\n",
       "    </tr>\n",
       "    <tr>\n",
       "      <th>1</th>\n",
       "      <td>1</td>\n",
       "      <td>45f906331e10</td>\n",
       "      <td>Rotterdam</td>\n",
       "      <td>v_004</td>\n",
       "      <td>CRF</td>\n",
       "      <td>Rome</td>\n",
       "      <td>Marseille</td>\n",
       "      <td>1644308</td>\n",
       "      <td>459</td>\n",
       "      <td>0</td>\n",
       "    </tr>\n",
       "    <tr>\n",
       "      <th>2</th>\n",
       "      <td>2</td>\n",
       "      <td>ac84a6e4af0f</td>\n",
       "      <td>Athens</td>\n",
       "      <td>v_002</td>\n",
       "      <td>CRF</td>\n",
       "      <td>Venlo</td>\n",
       "      <td>Paris</td>\n",
       "      <td>1684170</td>\n",
       "      <td>464</td>\n",
       "      <td>1</td>\n",
       "    </tr>\n",
       "    <tr>\n",
       "      <th>3</th>\n",
       "      <td>3</td>\n",
       "      <td>f5e98cb29790</td>\n",
       "      <td>Rotterdam</td>\n",
       "      <td>v_004</td>\n",
       "      <td>CRF</td>\n",
       "      <td>Lille</td>\n",
       "      <td>Milan</td>\n",
       "      <td>1620510</td>\n",
       "      <td>678</td>\n",
       "      <td>0</td>\n",
       "    </tr>\n",
       "    <tr>\n",
       "      <th>4</th>\n",
       "      <td>4</td>\n",
       "      <td>a9e7c9bee35b</td>\n",
       "      <td>Barcelona</td>\n",
       "      <td>v_002</td>\n",
       "      <td>CRF</td>\n",
       "      <td>Venlo</td>\n",
       "      <td>Berlin</td>\n",
       "      <td>1699372</td>\n",
       "      <td>353</td>\n",
       "      <td>0</td>\n",
       "    </tr>\n",
       "  </tbody>\n",
       "</table>\n",
       "</div>"
      ],
      "text/plain": [
       "   Unnamed: 0      order_id origin_port    3pl customs_procedures  \\\n",
       "0           0  366c7a3d298f   Rotterdam  v_002                DTP   \n",
       "1           1  45f906331e10   Rotterdam  v_004                CRF   \n",
       "2           2  ac84a6e4af0f      Athens  v_002                CRF   \n",
       "3           3  f5e98cb29790   Rotterdam  v_004                CRF   \n",
       "4           4  a9e7c9bee35b   Barcelona  v_002                CRF   \n",
       "\n",
       "  logistic_hub   customer  product_id  units  late_order  \n",
       "0        Venlo  Marseille     1692723    583           1  \n",
       "1         Rome  Marseille     1644308    459           0  \n",
       "2        Venlo      Paris     1684170    464           1  \n",
       "3        Lille      Milan     1620510    678           0  \n",
       "4        Venlo     Berlin     1699372    353           0  "
      ]
     },
     "execution_count": 9,
     "metadata": {},
     "output_type": "execute_result"
    }
   ],
   "source": [
    "# read train data\n",
    "df_orders = pd.read_csv(\"orders.csv\", sep=\",\")\n",
    "df_products = pd.read_csv(\"product_attributes.csv\", sep=\",\")\n",
    "df_dists = pd.read_csv(\"cities_data.csv\", sep=\";\")\n",
    "\n",
    "# read test data\n",
    "df_test = pd.read_csv(\"test.csv\", sep=\";\")\n"
   ]
  },
  {
   "cell_type": "markdown",
   "metadata": {
    "papermill": {
     "duration": 0.004097,
     "end_time": "2022-11-11T08:46:50.420599",
     "exception": false,
     "start_time": "2022-11-11T08:46:50.416502",
     "status": "completed"
    },
    "tags": []
   },
   "source": [
    "## Dummy Model"
   ]
  },
  {
   "cell_type": "code",
   "execution_count": 10,
   "metadata": {
    "execution": {
     "iopub.execute_input": "2022-11-11T12:20:25.170513Z",
     "iopub.status.busy": "2022-11-11T12:20:25.169408Z",
     "iopub.status.idle": "2022-11-11T12:20:25.899564Z",
     "shell.execute_reply": "2022-11-11T12:20:25.898383Z",
     "shell.execute_reply.started": "2022-11-11T12:20:25.170454Z"
    },
    "papermill": {
     "duration": 0.014522,
     "end_time": "2022-11-11T08:46:51.565743",
     "exception": false,
     "start_time": "2022-11-11T08:46:51.551221",
     "status": "completed"
    },
    "tags": []
   },
   "outputs": [],
   "source": [
    "from sklearn.dummy import DummyClassifier\n",
    "\n",
    "X_train = df_orders.drop(['late_order'], axis=1)\n",
    "y_train = df_orders['late_order']\n",
    "\n",
    "X_test = df_test\n",
    "\n",
    "dummy_clf = DummyClassifier(strategy=\"uniform\")\n",
    "dummy_clf.fit(X_train, y_train)\n",
    "\n",
    "pred_proba = dummy_clf.predict_proba(X_test)"
   ]
  },
  {
   "cell_type": "markdown",
   "metadata": {
    "papermill": {
     "duration": 0.004901,
     "end_time": "2022-11-11T08:46:51.575208",
     "exception": false,
     "start_time": "2022-11-11T08:46:51.570307",
     "status": "completed"
    },
    "tags": []
   },
   "source": [
    "## Save Solution\n",
    "> **Note:** Submited probabilities must be for the **True** cases."
   ]
  },
  {
   "cell_type": "code",
   "execution_count": null,
   "metadata": {
    "execution": {
     "iopub.execute_input": "2022-11-11T12:21:55.201806Z",
     "iopub.status.busy": "2022-11-11T12:21:55.201235Z",
     "iopub.status.idle": "2022-11-11T12:21:55.264849Z",
     "shell.execute_reply": "2022-11-11T12:21:55.263262Z",
     "shell.execute_reply.started": "2022-11-11T12:21:55.201757Z"
    },
    "papermill": {
     "duration": 0.047754,
     "end_time": "2022-11-11T08:46:51.627348",
     "exception": false,
     "start_time": "2022-11-11T08:46:51.579594",
     "status": "completed"
    },
    "tags": []
   },
   "outputs": [],
   "source": [
    "submission = pd.DataFrame({\"order_id\": X_test.order_id, \"late_order\": pred_proba[:,1]})\n",
    "submission.to_csv(\"submission_kaggle.csv\", index=False)"
   ]
  }
 ],
 "metadata": {
  "kernelspec": {
   "display_name": "Python 3.10.6 64-bit",
   "language": "python",
   "name": "python3"
  },
  "language_info": {
   "codemirror_mode": {
    "name": "ipython",
    "version": 3
   },
   "file_extension": ".py",
   "mimetype": "text/x-python",
   "name": "python",
   "nbconvert_exporter": "python",
   "pygments_lexer": "ipython3",
   "version": "3.10.6"
  },
  "vscode": {
   "interpreter": {
    "hash": "916dbcbb3f70747c44a77c7bcd40155683ae19c65e1c03b4aa3499c5328201f1"
   }
  }
 },
 "nbformat": 4,
 "nbformat_minor": 4
}
