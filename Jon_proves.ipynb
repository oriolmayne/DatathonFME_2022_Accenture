{
 "cells": [
  {
   "cell_type": "markdown",
   "metadata": {
    "papermill": {
     "duration": 0.004443,
     "end_time": "2022-11-11T08:46:48.019499",
     "exception": false,
     "start_time": "2022-11-11T08:46:48.015056",
     "status": "completed"
    },
    "tags": []
   },
   "source": [
    "# Sarter Notebook"
   ]
  },
  {
   "cell_type": "code",
   "execution_count": 1,
   "metadata": {
    "execution": {
     "iopub.execute_input": "2022-11-11T12:18:57.654968Z",
     "iopub.status.busy": "2022-11-11T12:18:57.653997Z",
     "iopub.status.idle": "2022-11-11T12:18:57.688915Z",
     "shell.execute_reply": "2022-11-11T12:18:57.687095Z",
     "shell.execute_reply.started": "2022-11-11T12:18:57.654825Z"
    },
    "papermill": {
     "duration": 1.688634,
     "end_time": "2022-11-11T08:46:49.712044",
     "exception": false,
     "start_time": "2022-11-11T08:46:48.02341",
     "status": "completed"
    },
    "tags": []
   },
   "outputs": [],
   "source": [
    "import pandas as pd\n",
    "import numpy as np\n",
    "import matplotlib.pyplot as plt"
   ]
  },
  {
   "cell_type": "markdown",
   "metadata": {
    "papermill": {
     "duration": 0.003519,
     "end_time": "2022-11-11T08:46:49.719635",
     "exception": false,
     "start_time": "2022-11-11T08:46:49.716116",
     "status": "completed"
    },
    "tags": []
   },
   "source": [
    "## Reading Data"
   ]
  },
  {
   "cell_type": "code",
   "execution_count": 2,
   "metadata": {
    "execution": {
     "iopub.execute_input": "2022-11-11T12:20:21.571998Z",
     "iopub.status.busy": "2022-11-11T12:20:21.570436Z",
     "iopub.status.idle": "2022-11-11T12:20:22.201905Z",
     "shell.execute_reply": "2022-11-11T12:20:22.200276Z",
     "shell.execute_reply.started": "2022-11-11T12:20:21.571943Z"
    },
    "papermill": {
     "duration": 0.383908,
     "end_time": "2022-11-11T08:46:50.10727",
     "exception": false,
     "start_time": "2022-11-11T08:46:49.723362",
     "status": "completed"
    },
    "tags": []
   },
   "outputs": [],
   "source": [
    "# read train data\n",
    "df_orders = pd.read_csv(\"orders.csv\", sep=\";\")\n",
    "df_products = pd.read_csv(\"product_attributes.csv\", sep=\",\")\n",
    "df_dists = pd.read_csv(\"cities_data.csv\", sep=\";\")\n",
    "\n",
    "# read test data\n",
    "df_test = pd.read_csv(\"test.csv\", sep=\";\")"
   ]
  },
  {
   "cell_type": "markdown",
   "metadata": {},
   "source": [
    "# Clean the data"
   ]
  },
  {
   "cell_type": "code",
   "execution_count": 60,
   "metadata": {},
   "outputs": [],
   "source": [
    "df_orders[\"origin_port\"] = df_orders[\"origin_port\"].replace([\"ATHENAS\"], \"Athens\")\n",
    "df_orders[\"origin_port\"] = df_orders[\"origin_port\"].replace([\"BCN\"], \"Barcelona\")\n",
    "df_orders[\"late_order\"] = df_orders[\"late_order\"].astype(int)"
   ]
  },
  {
   "cell_type": "markdown",
   "metadata": {},
   "source": [
    "# Analaize the data"
   ]
  },
  {
   "cell_type": "code",
   "execution_count": 61,
   "metadata": {},
   "outputs": [
    {
     "data": {
      "text/html": [
       "<div>\n",
       "<style scoped>\n",
       "    .dataframe tbody tr th:only-of-type {\n",
       "        vertical-align: middle;\n",
       "    }\n",
       "\n",
       "    .dataframe tbody tr th {\n",
       "        vertical-align: top;\n",
       "    }\n",
       "\n",
       "    .dataframe thead th {\n",
       "        text-align: right;\n",
       "    }\n",
       "</style>\n",
       "<table border=\"1\" class=\"dataframe\">\n",
       "  <thead>\n",
       "    <tr style=\"text-align: right;\">\n",
       "      <th></th>\n",
       "      <th>order_id</th>\n",
       "      <th>origin_port</th>\n",
       "      <th>3pl</th>\n",
       "      <th>customs_procedures</th>\n",
       "      <th>logistic_hub</th>\n",
       "      <th>customer</th>\n",
       "      <th>product_id</th>\n",
       "      <th>units</th>\n",
       "      <th>late_order</th>\n",
       "    </tr>\n",
       "  </thead>\n",
       "  <tbody>\n",
       "    <tr>\n",
       "      <th>0</th>\n",
       "      <td>366c7a3d298f</td>\n",
       "      <td>Rotterdam</td>\n",
       "      <td>v_002</td>\n",
       "      <td>DTP</td>\n",
       "      <td>Venlo</td>\n",
       "      <td>Marseille</td>\n",
       "      <td>1692723</td>\n",
       "      <td>583</td>\n",
       "      <td>1</td>\n",
       "    </tr>\n",
       "    <tr>\n",
       "      <th>1</th>\n",
       "      <td>45f906331e10</td>\n",
       "      <td>Rotterdam</td>\n",
       "      <td>v_004</td>\n",
       "      <td>CRF</td>\n",
       "      <td>Rome</td>\n",
       "      <td>Marseille</td>\n",
       "      <td>1644308</td>\n",
       "      <td>459</td>\n",
       "      <td>0</td>\n",
       "    </tr>\n",
       "    <tr>\n",
       "      <th>2</th>\n",
       "      <td>ac84a6e4af0f</td>\n",
       "      <td>Athens</td>\n",
       "      <td>v_002</td>\n",
       "      <td>CRF</td>\n",
       "      <td>Venlo</td>\n",
       "      <td>Paris</td>\n",
       "      <td>1684170</td>\n",
       "      <td>464</td>\n",
       "      <td>1</td>\n",
       "    </tr>\n",
       "    <tr>\n",
       "      <th>3</th>\n",
       "      <td>f5e98cb29790</td>\n",
       "      <td>Rotterdam</td>\n",
       "      <td>v_004</td>\n",
       "      <td>CRF</td>\n",
       "      <td>Lille</td>\n",
       "      <td>Milan</td>\n",
       "      <td>1620510</td>\n",
       "      <td>678</td>\n",
       "      <td>0</td>\n",
       "    </tr>\n",
       "    <tr>\n",
       "      <th>4</th>\n",
       "      <td>a9e7c9bee35b</td>\n",
       "      <td>Barcelona</td>\n",
       "      <td>v_002</td>\n",
       "      <td>CRF</td>\n",
       "      <td>Venlo</td>\n",
       "      <td>Berlin</td>\n",
       "      <td>1699372</td>\n",
       "      <td>353</td>\n",
       "      <td>0</td>\n",
       "    </tr>\n",
       "  </tbody>\n",
       "</table>\n",
       "</div>"
      ],
      "text/plain": [
       "       order_id origin_port    3pl customs_procedures logistic_hub   customer  \\\n",
       "0  366c7a3d298f   Rotterdam  v_002                DTP        Venlo  Marseille   \n",
       "1  45f906331e10   Rotterdam  v_004                CRF         Rome  Marseille   \n",
       "2  ac84a6e4af0f      Athens  v_002                CRF        Venlo      Paris   \n",
       "3  f5e98cb29790   Rotterdam  v_004                CRF        Lille      Milan   \n",
       "4  a9e7c9bee35b   Barcelona  v_002                CRF        Venlo     Berlin   \n",
       "\n",
       "   product_id  units  late_order  \n",
       "0     1692723    583           1  \n",
       "1     1644308    459           0  \n",
       "2     1684170    464           1  \n",
       "3     1620510    678           0  \n",
       "4     1699372    353           0  "
      ]
     },
     "execution_count": 61,
     "metadata": {},
     "output_type": "execute_result"
    }
   ],
   "source": [
    "df_orders.head()\n"
   ]
  },
  {
   "cell_type": "code",
   "execution_count": 62,
   "metadata": {},
   "outputs": [
    {
     "name": "stdout",
     "output_type": "stream",
     "text": [
      "v_001 : 0.6179014667168108\n",
      "v_002 : 0.8005533611227406\n",
      "v_003 : 0.7497475840184624\n",
      "v_004 : 0.7430507101217673\n"
     ]
    }
   ],
   "source": [
    "counts1 = df_orders[\"late_order\"].groupby(df_orders[\"3pl\"]).value_counts()\n",
    "# For every 3pl, print the percentage of late orders\n",
    "for i in range(1, 5):\n",
    "    print(f\"v_00{i}\", \":\", counts1[f\"v_00{i}\"][0]/(counts1[f\"v_00{i}\"][0]+counts1[f\"v_00{i}\"][1]))"
   ]
  },
  {
   "cell_type": "code",
   "execution_count": 63,
   "metadata": {},
   "outputs": [
    {
     "name": "stdout",
     "output_type": "stream",
     "text": [
      "customs_procedures  late_order\n",
      "CRF                 0             41274\n",
      "                    1             10203\n",
      "DTD                 0             32548\n",
      "                    1             10936\n",
      "DTP                 0             13298\n",
      "                    1              6017\n",
      "Name: late_order, dtype: int64\n",
      "CRF : 0.801794976397226\n",
      "DTD : 0.7485051973139546\n",
      "DTP : 0.6884804556044525\n"
     ]
    }
   ],
   "source": [
    "counts2 = df_orders[\"late_order\"].groupby(df_orders[\"customs_procedures\"]).value_counts()\n",
    "print(counts2)\n",
    "# For every custom_procedures, print the percentage of late orders\n",
    "for name in [\"CRF\", \"DTD\", \"DTP\"]:\n",
    "   print(name, \":\", counts2[name][0]/(counts2[name][0]+counts2[name][1]))"
   ]
  },
  {
   "cell_type": "code",
   "execution_count": 64,
   "metadata": {},
   "outputs": [
    {
     "name": "stdout",
     "output_type": "stream",
     "text": [
      "3pl    customs_procedures\n",
      "v_001  CRF                    3686\n",
      "       DTD                    2960\n",
      "       DTP                    1331\n",
      "v_002  CRF                   24595\n",
      "       DTD                   21035\n",
      "       DTP                    9307\n",
      "v_003  CRF                    3103\n",
      "       DTD                    2658\n",
      "       DTP                    1172\n",
      "v_004  CRF                   20093\n",
      "       DTD                   16831\n",
      "       DTP                    7505\n",
      "Name: customs_procedures, dtype: int64\n"
     ]
    }
   ],
   "source": [
    "counts3 = df_orders[\"customs_procedures\"].groupby(df_orders[\"3pl\"]).value_counts()\n",
    "print(counts3)"
   ]
  },
  {
   "cell_type": "code",
   "execution_count": null,
   "metadata": {},
   "outputs": [],
   "source": [
    "df_orders.describe()"
   ]
  },
  {
   "cell_type": "markdown",
   "metadata": {},
   "source": [
    "# ML"
   ]
  },
  {
   "cell_type": "markdown",
   "metadata": {},
   "source": [
    "### Split the data"
   ]
  },
  {
   "cell_type": "code",
   "execution_count": 205,
   "metadata": {},
   "outputs": [
    {
     "name": "stdout",
     "output_type": "stream",
     "text": [
      "  origin_port    3pl customs_procedures logistic_hub   customer  units\n",
      "0   Rotterdam  v_002                DTP        Venlo  Marseille    583\n",
      "1   Rotterdam  v_004                CRF         Rome  Marseille    459\n",
      "2      Athens  v_002                CRF        Venlo      Paris    464\n",
      "3   Rotterdam  v_004                CRF        Lille      Milan    678\n",
      "4   Barcelona  v_002                CRF        Venlo     Berlin    353\n",
      "[1 0 0 ... 0 0 0]\n"
     ]
    }
   ],
   "source": [
    "import sklearn as sk"
   ]
  },
  {
   "cell_type": "markdown",
   "metadata": {},
   "source": [
    "### SVM"
   ]
  },
  {
   "cell_type": "code",
   "execution_count": 259,
   "metadata": {},
   "outputs": [],
   "source": [
    "X = df_orders.drop(['late_order', 'order_id', 'product_id', 'units'], axis=1)\n",
    "y = np.array(df_orders['late_order'])\n",
    "\n",
    "X_train, X_test, y_train, y_test = sk.model_selection.train_test_split(X, y, test_size=0.2, random_state=42)\n",
    "X_train_enc = pd.get_dummies(X_train, columns=[\"origin_port\", \"3pl\", \"customs_procedures\", \"logistic_hub\", \"customer\"])\n",
    "X_test_enc = pd.get_dummies(X_test, columns=[\"origin_port\", \"3pl\", \"customs_procedures\", \"logistic_hub\", \"customer\"])"
   ]
  },
  {
   "cell_type": "code",
   "execution_count": 258,
   "metadata": {},
   "outputs": [],
   "source": [
    "from sklearn.kernel_approximation import Nystroem\n",
    "import sklearn.svm as svm\n",
    "feature_map_nystroem = Nystroem(gamma=0.01,\n",
    "                                random_state=42,\n",
    "                                 n_components=X_train_enc.shape[0])\n",
    "linmodel = svm.LinearSVC()\n",
    "linmodel.fit(X_train_enc, y_train)\n",
    "y_pred = linmodel.predict(X_test_enc)\n",
    "accuracy = sk.metrics.accuracy_score(y_test, y_pred)"
   ]
  },
  {
   "cell_type": "markdown",
   "metadata": {},
   "source": [
    "### Decision trees"
   ]
  },
  {
   "cell_type": "code",
   "execution_count": 260,
   "metadata": {},
   "outputs": [],
   "source": [
    "X = df_orders.drop(['late_order', 'order_id', 'product_id'], axis=1)\n",
    "y = np.array(df_orders['late_order'])\n",
    "\n",
    "X_train, X_test, y_train, y_test = sk.model_selection.train_test_split(X, y, test_size=0.2, random_state=42)\n",
    "X_train_enc = pd.get_dummies(X_train, columns=[\"origin_port\", \"3pl\", \"customs_procedures\", \"logistic_hub\", \"customer\"])\n",
    "X_test_enc = pd.get_dummies(X_test, columns=[\"origin_port\", \"3pl\", \"customs_procedures\", \"logistic_hub\", \"customer\"])"
   ]
  },
  {
   "cell_type": "code",
   "execution_count": 262,
   "metadata": {},
   "outputs": [],
   "source": [
    "from sklearn.tree import DecisionTreeClassifier\n",
    "xval = [i for i in range(2, 18)]\n",
    "yval = [None for _ in range(2, 18)]\n",
    "for i in range(2, 18):\n",
    "    modelt = DecisionTreeClassifier(criterion=\"entropy\", max_depth=i)\n",
    "    modelt.fit(X_train_enc, y_train)\n",
    "    y_pred = modelt.predict(X_test_enc)\n",
    "    yval[i-2] = sk.metrics.accuracy_score(y_pred, y_test)\n"
   ]
  },
  {
   "cell_type": "code",
   "execution_count": 263,
   "metadata": {},
   "outputs": [
    {
     "data": {
      "text/plain": [
       "[<matplotlib.lines.Line2D at 0x7fe960514d30>]"
      ]
     },
     "execution_count": 263,
     "metadata": {},
     "output_type": "execute_result"
    },
    {
     "data": {
      "image/png": "[encoded data removed]",
      "text/plain": [
       "<Figure size 640x480 with 1 Axes>"
      ]
     },
     "metadata": {},
     "output_type": "display_data"
    }
   ],
   "source": [
    "plt.plot(xval,yval)"
   ]
  },
  {
   "cell_type": "code",
   "execution_count": null,
   "metadata": {},
   "outputs": [],
   "source": [
    "from sklearn.tree import plot_tree\n",
    "plot_tree(modelt)"
   ]
  },
  {
   "cell_type": "code",
   "execution_count": 221,
   "metadata": {},
   "outputs": [
    {
     "name": "stdout",
     "output_type": "stream",
     "text": [
      "0.7804077703885194\n"
     ]
    }
   ],
   "source": [
    "accuracy2 = sk.metrics.accuracy_score(y_pred, y_test)\n",
    "print(accuracy2)"
   ]
  },
  {
   "cell_type": "markdown",
   "metadata": {
    "papermill": {
     "duration": 0.004901,
     "end_time": "2022-11-11T08:46:51.575208",
     "exception": false,
     "start_time": "2022-11-11T08:46:51.570307",
     "status": "completed"
    },
    "tags": []
   },
   "source": [
    "## Save Solution\n",
    "> **Note:** Submited probabilities must be for the **True** cases."
   ]
  },
  {
   "cell_type": "code",
   "execution_count": null,
   "metadata": {
    "execution": {
     "iopub.execute_input": "2022-11-11T12:21:55.201806Z",
     "iopub.status.busy": "2022-11-11T12:21:55.201235Z",
     "iopub.status.idle": "2022-11-11T12:21:55.264849Z",
     "shell.execute_reply": "2022-11-11T12:21:55.263262Z",
     "shell.execute_reply.started": "2022-11-11T12:21:55.201757Z"
    },
    "papermill": {
     "duration": 0.047754,
     "end_time": "2022-11-11T08:46:51.627348",
     "exception": false,
     "start_time": "2022-11-11T08:46:51.579594",
     "status": "completed"
    },
    "tags": []
   },
   "outputs": [],
   "source": [
    "submission = pd.DataFrame({\"order_id\": X_test.order_id, \"late_order\": pred_proba[:,1]})\n",
    "submission.to_csv(\"submission_kaggle.csv\", index=False)"
   ]
  }
 ],
 "metadata": {
  "kernelspec": {
   "display_name": "Python 3.10.6 64-bit",
   "language": "python",
   "name": "python3"
  },
  "language_info": {
   "codemirror_mode": {
    "name": "ipython",
    "version": 3
   },
   "file_extension": ".py",
   "mimetype": "text/x-python",
   "name": "python",
   "nbconvert_exporter": "python",
   "pygments_lexer": "ipython3",
   "version": "3.10.6"
  },
  "vscode": {
   "interpreter": {
    "hash": "916dbcbb3f70747c44a77c7bcd40155683ae19c65e1c03b4aa3499c5328201f1"
   }
  }
 },
 "nbformat": 4,
 "nbformat_minor": 4
}
