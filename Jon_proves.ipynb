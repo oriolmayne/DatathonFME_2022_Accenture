{
 "cells": [
  {
   "cell_type": "markdown",
   "metadata": {
    "papermill": {
     "duration": 0.004443,
     "end_time": "2022-11-11T08:46:48.019499",
     "exception": false,
     "start_time": "2022-11-11T08:46:48.015056",
     "status": "completed"
    },
    "tags": []
   },
   "source": [
    "# Sarter Notebook"
   ]
  },
  {
   "cell_type": "code",
   "execution_count": 1,
   "metadata": {
    "execution": {
     "iopub.execute_input": "2022-11-11T12:18:57.654968Z",
     "iopub.status.busy": "2022-11-11T12:18:57.653997Z",
     "iopub.status.idle": "2022-11-11T12:18:57.688915Z",
     "shell.execute_reply": "2022-11-11T12:18:57.687095Z",
     "shell.execute_reply.started": "2022-11-11T12:18:57.654825Z"
    },
    "papermill": {
     "duration": 1.688634,
     "end_time": "2022-11-11T08:46:49.712044",
     "exception": false,
     "start_time": "2022-11-11T08:46:48.02341",
     "status": "completed"
    },
    "tags": []
   },
   "outputs": [],
   "source": [
    "import pandas as pd\n",
    "import matplotlib.pyplot as plt"
   ]
  },
  {
   "cell_type": "markdown",
   "metadata": {
    "papermill": {
     "duration": 0.003519,
     "end_time": "2022-11-11T08:46:49.719635",
     "exception": false,
     "start_time": "2022-11-11T08:46:49.716116",
     "status": "completed"
    },
    "tags": []
   },
   "source": [
    "## Reading Data"
   ]
  },
  {
   "cell_type": "code",
   "execution_count": 2,
   "metadata": {
    "execution": {
     "iopub.execute_input": "2022-11-11T12:20:21.571998Z",
     "iopub.status.busy": "2022-11-11T12:20:21.570436Z",
     "iopub.status.idle": "2022-11-11T12:20:22.201905Z",
     "shell.execute_reply": "2022-11-11T12:20:22.200276Z",
     "shell.execute_reply.started": "2022-11-11T12:20:21.571943Z"
    },
    "papermill": {
     "duration": 0.383908,
     "end_time": "2022-11-11T08:46:50.10727",
     "exception": false,
     "start_time": "2022-11-11T08:46:49.723362",
     "status": "completed"
    },
    "tags": []
   },
   "outputs": [
    {
     "data": {
      "text/plain": [
       "order_id                    0\n",
       "origin_port                 0\n",
       "3pl                         0\n",
       "customs_procedures          0\n",
       "logistic_hub             1049\n",
       "customer                    0\n",
       "product_id                  0\n",
       "units                       0\n",
       "late_order                  0\n",
       "weight                    118\n",
       "material_handling         118\n",
       "origin_port_coord       50098\n",
       "logistic_hub_coord      50098\n",
       "dist_origin_hub         50098\n",
       "customer_coord           2531\n",
       "dist_hub_customer        2531\n",
       "dist_origin_customer    38202\n",
       "dtype: int64"
      ]
     },
     "execution_count": 2,
     "metadata": {},
     "output_type": "execute_result"
    }
   ],
   "source": [
    "# read train data\n",
    "df_data = pd.read_csv(\"Datasets.csv\", sep=\",\")\n",
    "df_data.head()\n",
    "df_data.isnull().sum()"
   ]
  },
  {
   "cell_type": "markdown",
   "metadata": {},
   "source": [
    "# Clean the data"
   ]
  },
  {
   "cell_type": "code",
   "execution_count": 3,
   "metadata": {},
   "outputs": [],
   "source": [
    "df_data[\"origin_port\"] = df_data[\"origin_port\"].replace([\"ATHENAS\"], \"Athens\")\n",
    "df_data[\"origin_port\"] = df_data[\"origin_port\"].replace([\"BCN\"], \"Barcelona\")\n",
    "df_data[\"late_order\"] = df_data[\"late_order\"].astype(int)"
   ]
  },
  {
   "cell_type": "markdown",
   "metadata": {},
   "source": [
    "# Analaize the data"
   ]
  },
  {
   "cell_type": "code",
   "execution_count": 111,
   "metadata": {},
   "outputs": [
    {
     "name": "stdout",
     "output_type": "stream",
     "text": [
      "customs_procedures\n",
      "CRF    51477\n",
      "DTD    43484\n",
      "DTP    19315\n",
      "Name: order_id, dtype: int64\n"
     ]
    }
   ],
   "source": [
    "counts0 = df_data[\"order_id\"].groupby(df_data[\"customs_procedures\"]).count()\n",
    "print(counts0.sort_values(ascending=False))"
   ]
  },
  {
   "cell_type": "code",
   "execution_count": 88,
   "metadata": {},
   "outputs": [
    {
     "name": "stdout",
     "output_type": "stream",
     "text": [
      "3pl    late_order\n",
      "v_001  0              4929\n",
      "       1              3048\n",
      "v_002  0             43980\n",
      "       1             10957\n",
      "v_003  0              5198\n",
      "       1              1735\n",
      "v_004  0             33013\n",
      "       1             11416\n",
      "Name: late_order, dtype: int64\n",
      "v_001 : 0.6179014667168108\n",
      "v_002 : 0.8005533611227406\n",
      "v_003 : 0.7497475840184624\n",
      "v_004 : 0.7430507101217673\n"
     ]
    }
   ],
   "source": [
    "counts1 = df_data[\"late_order\"].groupby(df_data[\"3pl\"]).value_counts()\n",
    "# For every 3pl, print the percentage of late orders\n",
    "print(counts1)\n",
    "for i in range(1, 5):\n",
    "    print(f\"v_00{i}\", \":\", counts1[f\"v_00{i}\"][0]/(counts1[f\"v_00{i}\"][0]+counts1[f\"v_00{i}\"][1]))"
   ]
  },
  {
   "cell_type": "code",
   "execution_count": 112,
   "metadata": {},
   "outputs": [
    {
     "name": "stdout",
     "output_type": "stream",
     "text": [
      "customs_procedures  late_order\n",
      "CRF                 0             41274\n",
      "                    1             10203\n",
      "DTD                 0             32548\n",
      "                    1             10936\n",
      "DTP                 0             13298\n",
      "                    1              6017\n",
      "Name: late_order, dtype: int64\n",
      "CRF : 0.801794976397226\n",
      "DTD : 0.7485051973139546\n",
      "DTP : 0.6884804556044525\n"
     ]
    }
   ],
   "source": [
    "counts2 = df_data[\"late_order\"].groupby(df_data[\"customs_procedures\"]).value_counts()\n",
    "print(counts2)\n",
    "# For every custom_procedures, print the percentage of late orders\n",
    "for name in [\"CRF\", \"DTD\", \"DTP\"]:\n",
    "   print(name, \":\", counts2[name][0]/(counts2[name][0]+counts2[name][1]))"
   ]
  },
  {
   "cell_type": "code",
   "execution_count": 7,
   "metadata": {},
   "outputs": [
    {
     "name": "stdout",
     "output_type": "stream",
     "text": [
      "3pl    customs_procedures\n",
      "v_001  CRF                    3686\n",
      "       DTD                    2960\n",
      "       DTP                    1331\n",
      "v_002  CRF                   24595\n",
      "       DTD                   21035\n",
      "       DTP                    9307\n",
      "v_003  CRF                    3103\n",
      "       DTD                    2658\n",
      "       DTP                    1172\n",
      "v_004  CRF                   20093\n",
      "       DTD                   16831\n",
      "       DTP                    7505\n",
      "Name: customs_procedures, dtype: int64\n"
     ]
    }
   ],
   "source": [
    "counts3 = df_data[\"customs_procedures\"].groupby(df_data[\"3pl\"]).value_counts()\n",
    "print(counts3)"
   ]
  },
  {
   "cell_type": "markdown",
   "metadata": {},
   "source": [
    "# ML"
   ]
  },
  {
   "cell_type": "markdown",
   "metadata": {},
   "source": [
    "### Split the data"
   ]
  },
  {
   "cell_type": "code",
   "execution_count": 18,
   "metadata": {},
   "outputs": [],
   "source": [
    "import sklearn as sk"
   ]
  },
  {
   "cell_type": "markdown",
   "metadata": {},
   "source": [
    "### Decision trees"
   ]
  },
  {
   "cell_type": "code",
   "execution_count": 94,
   "metadata": {},
   "outputs": [
    {
     "name": "stdout",
     "output_type": "stream",
     "text": [
      "  origin_port    3pl customs_procedures  units  late_order\n",
      "0   Rotterdam  v_002                DTP    583           1\n",
      "1   Rotterdam  v_004                CRF    459           0\n",
      "2      Athens  v_002                CRF    464           1\n",
      "3   Rotterdam  v_004                CRF    678           0\n",
      "4   Barcelona  v_002                CRF    353           0\n",
      "units                     493\n",
      "origin_port_Athens          1\n",
      "origin_port_Barcelona       0\n",
      "origin_port_Rotterdam       0\n",
      "3pl_v_001                   0\n",
      "3pl_v_002                   0\n",
      "3pl_v_003                   0\n",
      "3pl_v_004                   1\n",
      "customs_procedures_CRF      0\n",
      "customs_procedures_DTD      0\n",
      "customs_procedures_DTP      1\n",
      "Name: 24139, dtype: int64\n"
     ]
    }
   ],
   "source": [
    "X = df_data.drop(['order_id', 'product_id',\"weight\", \"logistic_hub\", \"customer\", 'dist_origin_hub',\n",
    "                  \"origin_port_coord\", \"logistic_hub_coord\", \"customer_coord\", \"dist_hub_customer\", \n",
    "                  \"dist_origin_customer\", 'material_handling'], axis=1).dropna()\n",
    "print(X.head())\n",
    "y = X['late_order']\n",
    "X = X.drop(['late_order'], axis=1)\n",
    "\n",
    "\n",
    "X_train, X_test, y_train, y_test = sk.model_selection.train_test_split(X, y, test_size=0.2)\n",
    "X_train_enc = pd.get_dummies(X_train, columns=[\"origin_port\", \"3pl\", \"customs_procedures\"])\n",
    "X_test_enc = pd.get_dummies(X_test, columns=[\"origin_port\", \"3pl\", \"customs_procedures\"])\n",
    "print(X_train_enc.iloc(0)[7])"
   ]
  },
  {
   "cell_type": "code",
   "execution_count": 95,
   "metadata": {},
   "outputs": [],
   "source": [
    "from sklearn.tree import DecisionTreeClassifier\n",
    "xval = [i for i in range(2, 18)]\n",
    "yval = [None for _ in range(2, 18)]\n",
    "for i in range(2, 18):\n",
    "    modelt = DecisionTreeClassifier(criterion=\"entropy\", max_depth=i)\n",
    "    modelt.fit(X_train_enc, y_train)\n",
    "    y_pred = modelt.predict(X_test_enc)\n",
    "    yval[i-2] = sk.metrics.accuracy_score(y_pred, y_test)\n"
   ]
  },
  {
   "cell_type": "code",
   "execution_count": 96,
   "metadata": {},
   "outputs": [
    {
     "data": {
      "text/plain": [
       "[<matplotlib.lines.Line2D at 0x7f4a20936740>]"
      ]
     },
     "execution_count": 96,
     "metadata": {},
     "output_type": "execute_result"
    },
    {
     "data": {
      "image/png": "[encoded data removed]",
      "text/plain": [
       "<Figure size 640x480 with 1 Axes>"
      ]
     },
     "metadata": {},
     "output_type": "display_data"
    }
   ],
   "source": [
    "plt.plot(xval,yval)"
   ]
  },
  {
   "cell_type": "code",
   "execution_count": 97,
   "metadata": {},
   "outputs": [
    {
     "name": "stdout",
     "output_type": "stream",
     "text": [
      "0.7713510675533777\n"
     ]
    }
   ],
   "source": [
    "print(max(yval))"
   ]
  },
  {
   "cell_type": "code",
   "execution_count": 98,
   "metadata": {},
   "outputs": [
    {
     "data": {
      "text/html": [
       "<style>#sk-container-id-7 {color: black;background-color: white;}#sk-container-id-7 pre{padding: 0;}#sk-container-id-7 div.sk-toggleable {background-color: white;}#sk-container-id-7 label.sk-toggleable__label {cursor: pointer;display: block;width: 100%;margin-bottom: 0;padding: 0.3em;box-sizing: border-box;text-align: center;}#sk-container-id-7 label.sk-toggleable__label-arrow:before {content: \"▸\";float: left;margin-right: 0.25em;color: #696969;}#sk-container-id-7 label.sk-toggleable__label-arrow:hover:before {color: black;}#sk-container-id-7 div.sk-estimator:hover label.sk-toggleable__label-arrow:before {color: black;}#sk-container-id-7 div.sk-toggleable__content {max-height: 0;max-width: 0;overflow: hidden;text-align: left;background-color: #f0f8ff;}#sk-container-id-7 div.sk-toggleable__content pre {margin: 0.2em;color: black;border-radius: 0.25em;background-color: #f0f8ff;}#sk-container-id-7 input.sk-toggleable__control:checked~div.sk-toggleable__content {max-height: 200px;max-width: 100%;overflow: auto;}#sk-container-id-7 input.sk-toggleable__control:checked~label.sk-toggleable__label-arrow:before {content: \"▾\";}#sk-container-id-7 div.sk-estimator input.sk-toggleable__control:checked~label.sk-toggleable__label {background-color: #d4ebff;}#sk-container-id-7 div.sk-label input.sk-toggleable__control:checked~label.sk-toggleable__label {background-color: #d4ebff;}#sk-container-id-7 input.sk-hidden--visually {border: 0;clip: rect(1px 1px 1px 1px);clip: rect(1px, 1px, 1px, 1px);height: 1px;margin: -1px;overflow: hidden;padding: 0;position: absolute;width: 1px;}#sk-container-id-7 div.sk-estimator {font-family: monospace;background-color: #f0f8ff;border: 1px dotted black;border-radius: 0.25em;box-sizing: border-box;margin-bottom: 0.5em;}#sk-container-id-7 div.sk-estimator:hover {background-color: #d4ebff;}#sk-container-id-7 div.sk-parallel-item::after {content: \"\";width: 100%;border-bottom: 1px solid gray;flex-grow: 1;}#sk-container-id-7 div.sk-label:hover label.sk-toggleable__label {background-color: #d4ebff;}#sk-container-id-7 div.sk-serial::before {content: \"\";position: absolute;border-left: 1px solid gray;box-sizing: border-box;top: 0;bottom: 0;left: 50%;z-index: 0;}#sk-container-id-7 div.sk-serial {display: flex;flex-direction: column;align-items: center;background-color: white;padding-right: 0.2em;padding-left: 0.2em;position: relative;}#sk-container-id-7 div.sk-item {position: relative;z-index: 1;}#sk-container-id-7 div.sk-parallel {display: flex;align-items: stretch;justify-content: center;background-color: white;position: relative;}#sk-container-id-7 div.sk-item::before, #sk-container-id-7 div.sk-parallel-item::before {content: \"\";position: absolute;border-left: 1px solid gray;box-sizing: border-box;top: 0;bottom: 0;left: 50%;z-index: -1;}#sk-container-id-7 div.sk-parallel-item {display: flex;flex-direction: column;z-index: 1;position: relative;background-color: white;}#sk-container-id-7 div.sk-parallel-item:first-child::after {align-self: flex-end;width: 50%;}#sk-container-id-7 div.sk-parallel-item:last-child::after {align-self: flex-start;width: 50%;}#sk-container-id-7 div.sk-parallel-item:only-child::after {width: 0;}#sk-container-id-7 div.sk-dashed-wrapped {border: 1px dashed gray;margin: 0 0.4em 0.5em 0.4em;box-sizing: border-box;padding-bottom: 0.4em;background-color: white;}#sk-container-id-7 div.sk-label label {font-family: monospace;font-weight: bold;display: inline-block;line-height: 1.2em;}#sk-container-id-7 div.sk-label-container {text-align: center;}#sk-container-id-7 div.sk-container {/* jupyter's `normalize.less` sets `[hidden] { display: none; }` but bootstrap.min.css set `[hidden] { display: none !important; }` so we also need the `!important` here to be able to override the default hidden behavior on the sphinx rendered scikit-learn.org. See: https://github.com/scikit-learn/scikit-learn/issues/21755 */display: inline-block !important;position: relative;}#sk-container-id-7 div.sk-text-repr-fallback {display: none;}</style><div id=\"sk-container-id-7\" class=\"sk-top-container\"><div class=\"sk-text-repr-fallback\"><pre>DecisionTreeClassifier(criterion=&#x27;entropy&#x27;, max_depth=8)</pre><b>In a Jupyter environment, please rerun this cell to show the HTML representation or trust the notebook. <br />On GitHub, the HTML representation is unable to render, please try loading this page with nbviewer.org.</b></div><div class=\"sk-container\" hidden><div class=\"sk-item\"><div class=\"sk-estimator sk-toggleable\"><input class=\"sk-toggleable__control sk-hidden--visually\" id=\"sk-estimator-id-7\" type=\"checkbox\" checked><label for=\"sk-estimator-id-7\" class=\"sk-toggleable__label sk-toggleable__label-arrow\">DecisionTreeClassifier</label><div class=\"sk-toggleable__content\"><pre>DecisionTreeClassifier(criterion=&#x27;entropy&#x27;, max_depth=8)</pre></div></div></div></div></div>"
      ],
      "text/plain": [
       "DecisionTreeClassifier(criterion='entropy', max_depth=8)"
      ]
     },
     "execution_count": 98,
     "metadata": {},
     "output_type": "execute_result"
    }
   ],
   "source": [
    "from sklearn.tree import plot_tree\n",
    "modeltdef = DecisionTreeClassifier(criterion=\"entropy\", max_depth=8)\n",
    "modeltdef.fit(X_train_enc, y_train)\n",
    "\n",
    "\n"
   ]
  },
  {
   "cell_type": "code",
   "execution_count": 103,
   "metadata": {},
   "outputs": [
    {
     "name": "stdout",
     "output_type": "stream",
     "text": [
      "           order_id origin_port    3pl customs_procedures logistic_hub  \\\n",
      "0      0e364fa5c795   Rotterdam  v_002                CRF       Warsaw   \n",
      "1      3ef49bd5a55b   Barcelona  v_002                CRF        Venlo   \n",
      "2      9ab5b9685bd5   Rotterdam  v_004                DTD   Bratislava   \n",
      "3      bfce5b4fc4fa   Rotterdam  v_002                DTD         Rome   \n",
      "4      d94453ec8ec5   Barcelona  v_001                CRF   Bratislava   \n",
      "...             ...         ...    ...                ...          ...   \n",
      "28558  d268acf6459e      Athens  v_004                CRF   Dusseldorf   \n",
      "28559  1aefc30b0eb3   Rotterdam  v_004                DTD      Hamburg   \n",
      "28560  646a2e50e170   Rotterdam  v_001                CRF        Venlo   \n",
      "28561  bf5177549be9     ATHENAS  v_001                CRF        Lille   \n",
      "28562  525dafc0ad62   Rotterdam  v_004                CRF         Rome   \n",
      "\n",
      "         customer  product_id  units  \n",
      "0          Munich     1687644    477  \n",
      "1          Berlin     1699689    240  \n",
      "2           Paris     1652615    506  \n",
      "3         Hanover     1669740    553  \n",
      "4      Copenhagen     1695138    482  \n",
      "...           ...         ...    ...  \n",
      "28558      Naples     1657474    496  \n",
      "28559    Bordeaux     1657437    577  \n",
      "28560       Milan     1689781    483  \n",
      "28561       Milan     1672088    564  \n",
      "28562    Budapest     1699949    462  \n",
      "\n",
      "[28563 rows x 8 columns]\n",
      "       units  origin_port_Athens  origin_port_Barcelona  \\\n",
      "0        477                   0                      0   \n",
      "1        240                   0                      1   \n",
      "2        506                   0                      0   \n",
      "3        553                   0                      0   \n",
      "4        482                   0                      1   \n",
      "...      ...                 ...                    ...   \n",
      "28558    496                   1                      0   \n",
      "28559    577                   0                      0   \n",
      "28560    483                   0                      0   \n",
      "28561    564                   1                      0   \n",
      "28562    462                   0                      0   \n",
      "\n",
      "       origin_port_Rotterdam  3pl_v_001  3pl_v_002  3pl_v_003  3pl_v_004  \\\n",
      "0                          1          0          1          0          0   \n",
      "1                          0          0          1          0          0   \n",
      "2                          1          0          0          0          1   \n",
      "3                          1          0          1          0          0   \n",
      "4                          0          1          0          0          0   \n",
      "...                      ...        ...        ...        ...        ...   \n",
      "28558                      0          0          0          0          1   \n",
      "28559                      1          0          0          0          1   \n",
      "28560                      1          1          0          0          0   \n",
      "28561                      0          1          0          0          0   \n",
      "28562                      1          0          0          0          1   \n",
      "\n",
      "       customs_procedures_CRF  customs_procedures_DTD  customs_procedures_DTP  \n",
      "0                           1                       0                       0  \n",
      "1                           1                       0                       0  \n",
      "2                           0                       1                       0  \n",
      "3                           0                       1                       0  \n",
      "4                           1                       0                       0  \n",
      "...                       ...                     ...                     ...  \n",
      "28558                       1                       0                       0  \n",
      "28559                       0                       1                       0  \n",
      "28560                       1                       0                       0  \n",
      "28561                       1                       0                       0  \n",
      "28562                       1                       0                       0  \n",
      "\n",
      "[28563 rows x 11 columns]\n"
     ]
    }
   ],
   "source": [
    "\n",
    "df_val = pd.read_csv(\"Altres/test.csv\", delimiter=\";\")\n",
    "df_val[\"origin_port\"] = df_val[\"origin_port\"].replace([\"ATHENAS\"], \"Athens\")\n",
    "df_val[\"origin_port\"] = df_val[\"origin_port\"].replace([\"BCN\"], \"Barcelona\")\n",
    "X = df_val.drop(['order_id', 'product_id', \"logistic_hub\", \"customer\", ], axis=1).dropna()\n",
    "\n",
    "\n",
    "\n",
    "X_enc = pd.get_dummies(X, columns=[\"origin_port\", \"3pl\", \"customs_procedures\"])\n",
    "print(X_enc)\n",
    "\n",
    "y_def = modeltdef.predict(X_enc)\n"
   ]
  },
  {
   "cell_type": "code",
   "execution_count": 102,
   "metadata": {
    "execution": {
     "iopub.execute_input": "2022-11-11T12:21:55.201806Z",
     "iopub.status.busy": "2022-11-11T12:21:55.201235Z",
     "iopub.status.idle": "2022-11-11T12:21:55.264849Z",
     "shell.execute_reply": "2022-11-11T12:21:55.263262Z",
     "shell.execute_reply.started": "2022-11-11T12:21:55.201757Z"
    },
    "papermill": {
     "duration": 0.047754,
     "end_time": "2022-11-11T08:46:51.627348",
     "exception": false,
     "start_time": "2022-11-11T08:46:51.579594",
     "status": "completed"
    },
    "tags": []
   },
   "outputs": [],
   "source": [
    "submission = pd.DataFrame({\"order_id\": df_val.order_id, \"late_order\": y_def})\n",
    "submission.to_csv(\"submission_kaggle.csv\", index=False)"
   ]
  }
 ],
 "metadata": {
  "kernelspec": {
   "display_name": "Python 3.10.6 64-bit",
   "language": "python",
   "name": "python3"
  },
  "language_info": {
   "codemirror_mode": {
    "name": "ipython",
    "version": 3
   },
   "file_extension": ".py",
   "mimetype": "text/x-python",
   "name": "python",
   "nbconvert_exporter": "python",
   "pygments_lexer": "ipython3",
   "version": "3.10.6"
  },
  "vscode": {
   "interpreter": {
    "hash": "916dbcbb3f70747c44a77c7bcd40155683ae19c65e1c03b4aa3499c5328201f1"
   }
  }
 },
 "nbformat": 4,
 "nbformat_minor": 4
}
